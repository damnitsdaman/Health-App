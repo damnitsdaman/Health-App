{
 "cells": [
  {
   "cell_type": "code",
   "execution_count": 1,
   "id": "fbe1d6cb",
   "metadata": {},
   "outputs": [],
   "source": [
    "#Importing Important Libraries\n",
    "import pandas as pd\n",
    "import numpy as np\n",
    "import matplotlib.pyplot as plt\n",
    "import joblib"
   ]
  },
  {
   "cell_type": "markdown",
   "id": "5ceb61b0",
   "metadata": {},
   "source": [
    "### Loading Dataset"
   ]
  },
  {
   "cell_type": "code",
   "execution_count": 2,
   "id": "70be7101",
   "metadata": {},
   "outputs": [],
   "source": [
    "df= pd.read_csv('Drug.csv')"
   ]
  },
  {
   "cell_type": "code",
   "execution_count": 3,
   "id": "7797a27f",
   "metadata": {},
   "outputs": [
    {
     "data": {
      "text/html": [
       "<div>\n",
       "<style scoped>\n",
       "    .dataframe tbody tr th:only-of-type {\n",
       "        vertical-align: middle;\n",
       "    }\n",
       "\n",
       "    .dataframe tbody tr th {\n",
       "        vertical-align: top;\n",
       "    }\n",
       "\n",
       "    .dataframe thead th {\n",
       "        text-align: right;\n",
       "    }\n",
       "</style>\n",
       "<table border=\"1\" class=\"dataframe\">\n",
       "  <thead>\n",
       "    <tr style=\"text-align: right;\">\n",
       "      <th></th>\n",
       "      <th>Drug</th>\n",
       "      <th>Disease</th>\n",
       "      <th>Gender</th>\n",
       "      <th>Age</th>\n",
       "    </tr>\n",
       "  </thead>\n",
       "  <tbody>\n",
       "    <tr>\n",
       "      <th>0</th>\n",
       "      <td>A CN Gel(Topical) 20gmA CN Soap 75gm</td>\n",
       "      <td>Acne</td>\n",
       "      <td>Male</td>\n",
       "      <td>23</td>\n",
       "    </tr>\n",
       "    <tr>\n",
       "      <th>1</th>\n",
       "      <td>A Ret 0.05% Gel 20gmA Ret 0.1% Gel 20gmA Ret 0...</td>\n",
       "      <td>Acne</td>\n",
       "      <td>Male</td>\n",
       "      <td>23</td>\n",
       "    </tr>\n",
       "    <tr>\n",
       "      <th>2</th>\n",
       "      <td>ACGEL CL NANO Gel 15gm</td>\n",
       "      <td>Acne</td>\n",
       "      <td>Male</td>\n",
       "      <td>23</td>\n",
       "    </tr>\n",
       "    <tr>\n",
       "      <th>3</th>\n",
       "      <td>ACGEL NANO Gel 15gm</td>\n",
       "      <td>Acne</td>\n",
       "      <td>Male</td>\n",
       "      <td>23</td>\n",
       "    </tr>\n",
       "    <tr>\n",
       "      <th>4</th>\n",
       "      <td>Acleen 1% Lotion 25ml</td>\n",
       "      <td>Acne</td>\n",
       "      <td>Male</td>\n",
       "      <td>23</td>\n",
       "    </tr>\n",
       "  </tbody>\n",
       "</table>\n",
       "</div>"
      ],
      "text/plain": [
       "                                                Drug Disease Gender  Age\n",
       "0               A CN Gel(Topical) 20gmA CN Soap 75gm    Acne   Male   23\n",
       "1  A Ret 0.05% Gel 20gmA Ret 0.1% Gel 20gmA Ret 0...    Acne   Male   23\n",
       "2                             ACGEL CL NANO Gel 15gm    Acne   Male   23\n",
       "3                                ACGEL NANO Gel 15gm    Acne   Male   23\n",
       "4                              Acleen 1% Lotion 25ml    Acne   Male   23"
      ]
     },
     "execution_count": 3,
     "metadata": {},
     "output_type": "execute_result"
    }
   ],
   "source": [
    "df.head()"
   ]
  },
  {
   "cell_type": "code",
   "execution_count": 4,
   "id": "b2ed209c",
   "metadata": {},
   "outputs": [
    {
     "data": {
      "text/plain": [
       "(4955, 4)"
      ]
     },
     "execution_count": 4,
     "metadata": {},
     "output_type": "execute_result"
    }
   ],
   "source": [
    "df.shape"
   ]
  },
  {
   "cell_type": "code",
   "execution_count": 5,
   "id": "d3be5921",
   "metadata": {},
   "outputs": [
    {
     "data": {
      "text/plain": [
       "Drug       0\n",
       "Disease    0\n",
       "Gender     0\n",
       "Age        0\n",
       "dtype: int64"
      ]
     },
     "execution_count": 5,
     "metadata": {},
     "output_type": "execute_result"
    }
   ],
   "source": [
    "#Checking the missing values\n",
    "df.isnull().sum()"
   ]
  },
  {
   "cell_type": "code",
   "execution_count": 6,
   "id": "37bc2cb2",
   "metadata": {},
   "outputs": [
    {
     "data": {
      "text/plain": [
       "Drug       object\n",
       "Disease    object\n",
       "Gender     object\n",
       "Age         int64\n",
       "dtype: object"
      ]
     },
     "execution_count": 6,
     "metadata": {},
     "output_type": "execute_result"
    }
   ],
   "source": [
    "df.dtypes"
   ]
  },
  {
   "cell_type": "markdown",
   "id": "b08ca981",
   "metadata": {},
   "source": [
    "### Data Preprocessing"
   ]
  },
  {
   "cell_type": "code",
   "execution_count": 7,
   "id": "eced9357",
   "metadata": {},
   "outputs": [],
   "source": [
    "# Gender_mapping = {'Feamle':0,'Male':1}\n",
    "# df['Gender'] = df['Gender'].replace(Gender_mapping,inplace = True)\n",
    "df.replace({'Gender':{'Female':0,'Male':1}},inplace = True)"
   ]
  },
  {
   "cell_type": "code",
   "execution_count": 8,
   "id": "c5f1d838",
   "metadata": {},
   "outputs": [
    {
     "data": {
      "text/html": [
       "<div>\n",
       "<style scoped>\n",
       "    .dataframe tbody tr th:only-of-type {\n",
       "        vertical-align: middle;\n",
       "    }\n",
       "\n",
       "    .dataframe tbody tr th {\n",
       "        vertical-align: top;\n",
       "    }\n",
       "\n",
       "    .dataframe thead th {\n",
       "        text-align: right;\n",
       "    }\n",
       "</style>\n",
       "<table border=\"1\" class=\"dataframe\">\n",
       "  <thead>\n",
       "    <tr style=\"text-align: right;\">\n",
       "      <th></th>\n",
       "      <th>Drug</th>\n",
       "      <th>Disease</th>\n",
       "      <th>Gender</th>\n",
       "      <th>Age</th>\n",
       "    </tr>\n",
       "  </thead>\n",
       "  <tbody>\n",
       "    <tr>\n",
       "      <th>0</th>\n",
       "      <td>A CN Gel(Topical) 20gmA CN Soap 75gm</td>\n",
       "      <td>Acne</td>\n",
       "      <td>1</td>\n",
       "      <td>23</td>\n",
       "    </tr>\n",
       "    <tr>\n",
       "      <th>1</th>\n",
       "      <td>A Ret 0.05% Gel 20gmA Ret 0.1% Gel 20gmA Ret 0...</td>\n",
       "      <td>Acne</td>\n",
       "      <td>1</td>\n",
       "      <td>23</td>\n",
       "    </tr>\n",
       "    <tr>\n",
       "      <th>2</th>\n",
       "      <td>ACGEL CL NANO Gel 15gm</td>\n",
       "      <td>Acne</td>\n",
       "      <td>1</td>\n",
       "      <td>23</td>\n",
       "    </tr>\n",
       "    <tr>\n",
       "      <th>3</th>\n",
       "      <td>ACGEL NANO Gel 15gm</td>\n",
       "      <td>Acne</td>\n",
       "      <td>1</td>\n",
       "      <td>23</td>\n",
       "    </tr>\n",
       "    <tr>\n",
       "      <th>4</th>\n",
       "      <td>Acleen 1% Lotion 25ml</td>\n",
       "      <td>Acne</td>\n",
       "      <td>1</td>\n",
       "      <td>23</td>\n",
       "    </tr>\n",
       "  </tbody>\n",
       "</table>\n",
       "</div>"
      ],
      "text/plain": [
       "                                                Drug Disease  Gender  Age\n",
       "0               A CN Gel(Topical) 20gmA CN Soap 75gm    Acne       1   23\n",
       "1  A Ret 0.05% Gel 20gmA Ret 0.1% Gel 20gmA Ret 0...    Acne       1   23\n",
       "2                             ACGEL CL NANO Gel 15gm    Acne       1   23\n",
       "3                                ACGEL NANO Gel 15gm    Acne       1   23\n",
       "4                              Acleen 1% Lotion 25ml    Acne       1   23"
      ]
     },
     "execution_count": 8,
     "metadata": {},
     "output_type": "execute_result"
    }
   ],
   "source": [
    "df.head()"
   ]
  },
  {
   "cell_type": "code",
   "execution_count": 9,
   "id": "14280dfd",
   "metadata": {},
   "outputs": [],
   "source": [
    "x = df[['Disease']]\n"
   ]
  },
  {
   "cell_type": "code",
   "execution_count": 10,
   "id": "605d6028",
   "metadata": {},
   "outputs": [
    {
     "data": {
      "text/plain": [
       "array(['Acne', 'Allergy', 'Diabetes', 'Fungal infection',\n",
       "       'Urinary tract infection', 'Malaria', 'Migraine', 'Hepatitis B',\n",
       "       'AIDS'], dtype=object)"
      ]
     },
     "execution_count": 10,
     "metadata": {},
     "output_type": "execute_result"
    }
   ],
   "source": [
    "x.Disease.unique()"
   ]
  },
  {
   "cell_type": "code",
   "execution_count": 11,
   "id": "048db84e",
   "metadata": {},
   "outputs": [],
   "source": [
    "df.replace({'Disease':{'Acne':0, 'Allergy':1, 'Diabetes':2, 'Fungal infection':3,\n",
    "       'Urinary tract infection':4, 'Malaria':5, 'Migraine':6, 'Hepatitis B':7,\n",
    "       'AIDS':8}},inplace = True)"
   ]
  },
  {
   "cell_type": "code",
   "execution_count": 12,
   "id": "d11bfc64",
   "metadata": {},
   "outputs": [
    {
     "data": {
      "text/html": [
       "<div>\n",
       "<style scoped>\n",
       "    .dataframe tbody tr th:only-of-type {\n",
       "        vertical-align: middle;\n",
       "    }\n",
       "\n",
       "    .dataframe tbody tr th {\n",
       "        vertical-align: top;\n",
       "    }\n",
       "\n",
       "    .dataframe thead th {\n",
       "        text-align: right;\n",
       "    }\n",
       "</style>\n",
       "<table border=\"1\" class=\"dataframe\">\n",
       "  <thead>\n",
       "    <tr style=\"text-align: right;\">\n",
       "      <th></th>\n",
       "      <th>Drug</th>\n",
       "      <th>Disease</th>\n",
       "      <th>Gender</th>\n",
       "      <th>Age</th>\n",
       "    </tr>\n",
       "  </thead>\n",
       "  <tbody>\n",
       "    <tr>\n",
       "      <th>0</th>\n",
       "      <td>A CN Gel(Topical) 20gmA CN Soap 75gm</td>\n",
       "      <td>0</td>\n",
       "      <td>1</td>\n",
       "      <td>23</td>\n",
       "    </tr>\n",
       "    <tr>\n",
       "      <th>1</th>\n",
       "      <td>A Ret 0.05% Gel 20gmA Ret 0.1% Gel 20gmA Ret 0...</td>\n",
       "      <td>0</td>\n",
       "      <td>1</td>\n",
       "      <td>23</td>\n",
       "    </tr>\n",
       "    <tr>\n",
       "      <th>2</th>\n",
       "      <td>ACGEL CL NANO Gel 15gm</td>\n",
       "      <td>0</td>\n",
       "      <td>1</td>\n",
       "      <td>23</td>\n",
       "    </tr>\n",
       "    <tr>\n",
       "      <th>3</th>\n",
       "      <td>ACGEL NANO Gel 15gm</td>\n",
       "      <td>0</td>\n",
       "      <td>1</td>\n",
       "      <td>23</td>\n",
       "    </tr>\n",
       "    <tr>\n",
       "      <th>4</th>\n",
       "      <td>Acleen 1% Lotion 25ml</td>\n",
       "      <td>0</td>\n",
       "      <td>1</td>\n",
       "      <td>23</td>\n",
       "    </tr>\n",
       "  </tbody>\n",
       "</table>\n",
       "</div>"
      ],
      "text/plain": [
       "                                                Drug  Disease  Gender  Age\n",
       "0               A CN Gel(Topical) 20gmA CN Soap 75gm        0       1   23\n",
       "1  A Ret 0.05% Gel 20gmA Ret 0.1% Gel 20gmA Ret 0...        0       1   23\n",
       "2                             ACGEL CL NANO Gel 15gm        0       1   23\n",
       "3                                ACGEL NANO Gel 15gm        0       1   23\n",
       "4                              Acleen 1% Lotion 25ml        0       1   23"
      ]
     },
     "execution_count": 12,
     "metadata": {},
     "output_type": "execute_result"
    }
   ],
   "source": [
    "df.head()"
   ]
  },
  {
   "cell_type": "markdown",
   "id": "5492e208",
   "metadata": {},
   "source": [
    "### Fitting the Model"
   ]
  },
  {
   "cell_type": "code",
   "execution_count": 13,
   "id": "4736e6ba",
   "metadata": {},
   "outputs": [],
   "source": [
    "df_x = df[['Disease','Gender','Age']]\n",
    "df_y = df[['Drug']]"
   ]
  },
  {
   "cell_type": "code",
   "execution_count": 14,
   "id": "121856a1",
   "metadata": {},
   "outputs": [
    {
     "data": {
      "text/html": [
       "<div>\n",
       "<style scoped>\n",
       "    .dataframe tbody tr th:only-of-type {\n",
       "        vertical-align: middle;\n",
       "    }\n",
       "\n",
       "    .dataframe tbody tr th {\n",
       "        vertical-align: top;\n",
       "    }\n",
       "\n",
       "    .dataframe thead th {\n",
       "        text-align: right;\n",
       "    }\n",
       "</style>\n",
       "<table border=\"1\" class=\"dataframe\">\n",
       "  <thead>\n",
       "    <tr style=\"text-align: right;\">\n",
       "      <th></th>\n",
       "      <th>Disease</th>\n",
       "      <th>Gender</th>\n",
       "      <th>Age</th>\n",
       "    </tr>\n",
       "  </thead>\n",
       "  <tbody>\n",
       "    <tr>\n",
       "      <th>0</th>\n",
       "      <td>0</td>\n",
       "      <td>1</td>\n",
       "      <td>23</td>\n",
       "    </tr>\n",
       "    <tr>\n",
       "      <th>1</th>\n",
       "      <td>0</td>\n",
       "      <td>1</td>\n",
       "      <td>23</td>\n",
       "    </tr>\n",
       "    <tr>\n",
       "      <th>2</th>\n",
       "      <td>0</td>\n",
       "      <td>1</td>\n",
       "      <td>23</td>\n",
       "    </tr>\n",
       "    <tr>\n",
       "      <th>3</th>\n",
       "      <td>0</td>\n",
       "      <td>1</td>\n",
       "      <td>23</td>\n",
       "    </tr>\n",
       "    <tr>\n",
       "      <th>4</th>\n",
       "      <td>0</td>\n",
       "      <td>1</td>\n",
       "      <td>23</td>\n",
       "    </tr>\n",
       "  </tbody>\n",
       "</table>\n",
       "</div>"
      ],
      "text/plain": [
       "   Disease  Gender  Age\n",
       "0        0       1   23\n",
       "1        0       1   23\n",
       "2        0       1   23\n",
       "3        0       1   23\n",
       "4        0       1   23"
      ]
     },
     "execution_count": 14,
     "metadata": {},
     "output_type": "execute_result"
    }
   ],
   "source": [
    "df_x.head()"
   ]
  },
  {
   "cell_type": "code",
   "execution_count": 15,
   "id": "6a8b16c2",
   "metadata": {},
   "outputs": [
    {
     "data": {
      "text/html": [
       "<div>\n",
       "<style scoped>\n",
       "    .dataframe tbody tr th:only-of-type {\n",
       "        vertical-align: middle;\n",
       "    }\n",
       "\n",
       "    .dataframe tbody tr th {\n",
       "        vertical-align: top;\n",
       "    }\n",
       "\n",
       "    .dataframe thead th {\n",
       "        text-align: right;\n",
       "    }\n",
       "</style>\n",
       "<table border=\"1\" class=\"dataframe\">\n",
       "  <thead>\n",
       "    <tr style=\"text-align: right;\">\n",
       "      <th></th>\n",
       "      <th>Drug</th>\n",
       "    </tr>\n",
       "  </thead>\n",
       "  <tbody>\n",
       "    <tr>\n",
       "      <th>0</th>\n",
       "      <td>A CN Gel(Topical) 20gmA CN Soap 75gm</td>\n",
       "    </tr>\n",
       "    <tr>\n",
       "      <th>1</th>\n",
       "      <td>A Ret 0.05% Gel 20gmA Ret 0.1% Gel 20gmA Ret 0...</td>\n",
       "    </tr>\n",
       "    <tr>\n",
       "      <th>2</th>\n",
       "      <td>ACGEL CL NANO Gel 15gm</td>\n",
       "    </tr>\n",
       "    <tr>\n",
       "      <th>3</th>\n",
       "      <td>ACGEL NANO Gel 15gm</td>\n",
       "    </tr>\n",
       "    <tr>\n",
       "      <th>4</th>\n",
       "      <td>Acleen 1% Lotion 25ml</td>\n",
       "    </tr>\n",
       "  </tbody>\n",
       "</table>\n",
       "</div>"
      ],
      "text/plain": [
       "                                                Drug\n",
       "0               A CN Gel(Topical) 20gmA CN Soap 75gm\n",
       "1  A Ret 0.05% Gel 20gmA Ret 0.1% Gel 20gmA Ret 0...\n",
       "2                             ACGEL CL NANO Gel 15gm\n",
       "3                                ACGEL NANO Gel 15gm\n",
       "4                              Acleen 1% Lotion 25ml"
      ]
     },
     "execution_count": 15,
     "metadata": {},
     "output_type": "execute_result"
    }
   ],
   "source": [
    "df_y.head()"
   ]
  },
  {
   "cell_type": "code",
   "execution_count": 16,
   "id": "245fddf8",
   "metadata": {},
   "outputs": [],
   "source": [
    "#Train test split\n",
    "from sklearn.model_selection import train_test_split\n",
    "X_train, X_test, y_train, y_test = train_test_split(\n",
    "     df_x, df_y, test_size=0.2, random_state=0)"
   ]
  },
  {
   "cell_type": "code",
   "execution_count": 17,
   "id": "bbd82eb9",
   "metadata": {},
   "outputs": [
    {
     "data": {
      "text/html": [
       "<div>\n",
       "<style scoped>\n",
       "    .dataframe tbody tr th:only-of-type {\n",
       "        vertical-align: middle;\n",
       "    }\n",
       "\n",
       "    .dataframe tbody tr th {\n",
       "        vertical-align: top;\n",
       "    }\n",
       "\n",
       "    .dataframe thead th {\n",
       "        text-align: right;\n",
       "    }\n",
       "</style>\n",
       "<table border=\"1\" class=\"dataframe\">\n",
       "  <thead>\n",
       "    <tr style=\"text-align: right;\">\n",
       "      <th></th>\n",
       "      <th>Disease</th>\n",
       "      <th>Gender</th>\n",
       "      <th>Age</th>\n",
       "    </tr>\n",
       "  </thead>\n",
       "  <tbody>\n",
       "    <tr>\n",
       "      <th>2150</th>\n",
       "      <td>2</td>\n",
       "      <td>1</td>\n",
       "      <td>23</td>\n",
       "    </tr>\n",
       "    <tr>\n",
       "      <th>167</th>\n",
       "      <td>0</td>\n",
       "      <td>0</td>\n",
       "      <td>20</td>\n",
       "    </tr>\n",
       "    <tr>\n",
       "      <th>3188</th>\n",
       "      <td>2</td>\n",
       "      <td>0</td>\n",
       "      <td>23</td>\n",
       "    </tr>\n",
       "    <tr>\n",
       "      <th>844</th>\n",
       "      <td>1</td>\n",
       "      <td>0</td>\n",
       "      <td>23</td>\n",
       "    </tr>\n",
       "    <tr>\n",
       "      <th>4129</th>\n",
       "      <td>3</td>\n",
       "      <td>0</td>\n",
       "      <td>37</td>\n",
       "    </tr>\n",
       "  </tbody>\n",
       "</table>\n",
       "</div>"
      ],
      "text/plain": [
       "      Disease  Gender  Age\n",
       "2150        2       1   23\n",
       "167         0       0   20\n",
       "3188        2       0   23\n",
       "844         1       0   23\n",
       "4129        3       0   37"
      ]
     },
     "execution_count": 17,
     "metadata": {},
     "output_type": "execute_result"
    }
   ],
   "source": [
    "X_train.head()"
   ]
  },
  {
   "cell_type": "code",
   "execution_count": 18,
   "id": "1846c03b",
   "metadata": {},
   "outputs": [
    {
     "data": {
      "text/html": [
       "<div>\n",
       "<style scoped>\n",
       "    .dataframe tbody tr th:only-of-type {\n",
       "        vertical-align: middle;\n",
       "    }\n",
       "\n",
       "    .dataframe tbody tr th {\n",
       "        vertical-align: top;\n",
       "    }\n",
       "\n",
       "    .dataframe thead th {\n",
       "        text-align: right;\n",
       "    }\n",
       "</style>\n",
       "<table border=\"1\" class=\"dataframe\">\n",
       "  <thead>\n",
       "    <tr style=\"text-align: right;\">\n",
       "      <th></th>\n",
       "      <th>Disease</th>\n",
       "      <th>Gender</th>\n",
       "      <th>Age</th>\n",
       "    </tr>\n",
       "  </thead>\n",
       "  <tbody>\n",
       "    <tr>\n",
       "      <th>2540</th>\n",
       "      <td>2</td>\n",
       "      <td>0</td>\n",
       "      <td>23</td>\n",
       "    </tr>\n",
       "    <tr>\n",
       "      <th>446</th>\n",
       "      <td>1</td>\n",
       "      <td>1</td>\n",
       "      <td>23</td>\n",
       "    </tr>\n",
       "    <tr>\n",
       "      <th>4771</th>\n",
       "      <td>8</td>\n",
       "      <td>0</td>\n",
       "      <td>20</td>\n",
       "    </tr>\n",
       "    <tr>\n",
       "      <th>541</th>\n",
       "      <td>1</td>\n",
       "      <td>0</td>\n",
       "      <td>20</td>\n",
       "    </tr>\n",
       "    <tr>\n",
       "      <th>1270</th>\n",
       "      <td>2</td>\n",
       "      <td>0</td>\n",
       "      <td>23</td>\n",
       "    </tr>\n",
       "  </tbody>\n",
       "</table>\n",
       "</div>"
      ],
      "text/plain": [
       "      Disease  Gender  Age\n",
       "2540        2       0   23\n",
       "446         1       1   23\n",
       "4771        8       0   20\n",
       "541         1       0   20\n",
       "1270        2       0   23"
      ]
     },
     "execution_count": 18,
     "metadata": {},
     "output_type": "execute_result"
    }
   ],
   "source": [
    "X_test.head()"
   ]
  },
  {
   "cell_type": "code",
   "execution_count": 19,
   "id": "7b03ee62",
   "metadata": {},
   "outputs": [
    {
     "data": {
      "text/html": [
       "<div>\n",
       "<style scoped>\n",
       "    .dataframe tbody tr th:only-of-type {\n",
       "        vertical-align: middle;\n",
       "    }\n",
       "\n",
       "    .dataframe tbody tr th {\n",
       "        vertical-align: top;\n",
       "    }\n",
       "\n",
       "    .dataframe thead th {\n",
       "        text-align: right;\n",
       "    }\n",
       "</style>\n",
       "<table border=\"1\" class=\"dataframe\">\n",
       "  <thead>\n",
       "    <tr style=\"text-align: right;\">\n",
       "      <th></th>\n",
       "      <th>Drug</th>\n",
       "    </tr>\n",
       "  </thead>\n",
       "  <tbody>\n",
       "    <tr>\n",
       "      <th>2150</th>\n",
       "      <td>Glycinorm Total 30mg Tablet 10'SGlycinorm Tota...</td>\n",
       "    </tr>\n",
       "    <tr>\n",
       "      <th>167</th>\n",
       "      <td>Dersol BH Ointment 30gm</td>\n",
       "    </tr>\n",
       "    <tr>\n",
       "      <th>3188</th>\n",
       "      <td>Wosulin New 30/70 100IU Cartridge 3X3ml</td>\n",
       "    </tr>\n",
       "    <tr>\n",
       "      <th>844</th>\n",
       "      <td>Lejet M JR Tablet 10'S</td>\n",
       "    </tr>\n",
       "    <tr>\n",
       "      <th>4129</th>\n",
       "      <td>Zocon 50mg Tablet 4'SZocon Transgel 15gmZocon ...</td>\n",
       "    </tr>\n",
       "  </tbody>\n",
       "</table>\n",
       "</div>"
      ],
      "text/plain": [
       "                                                   Drug\n",
       "2150  Glycinorm Total 30mg Tablet 10'SGlycinorm Tota...\n",
       "167                             Dersol BH Ointment 30gm\n",
       "3188            Wosulin New 30/70 100IU Cartridge 3X3ml\n",
       "844                              Lejet M JR Tablet 10'S\n",
       "4129  Zocon 50mg Tablet 4'SZocon Transgel 15gmZocon ..."
      ]
     },
     "execution_count": 19,
     "metadata": {},
     "output_type": "execute_result"
    }
   ],
   "source": [
    "y_train.head()"
   ]
  },
  {
   "cell_type": "code",
   "execution_count": 20,
   "id": "3a4369ff",
   "metadata": {},
   "outputs": [],
   "source": [
    "#Fitting Random Forest\n",
    "from sklearn.ensemble import RandomForestClassifier\n",
    "rf = RandomForestClassifier()\n",
    "rf = rf.fit(df_x,np.ravel(df_y))"
   ]
  },
  {
   "cell_type": "code",
   "execution_count": 21,
   "id": "cb006b95",
   "metadata": {},
   "outputs": [
    {
     "name": "stdout",
     "output_type": "stream",
     "text": [
      "0.034308779011099896\n",
      "34\n"
     ]
    }
   ],
   "source": [
    "#Model Accuracy\n",
    "from sklearn.metrics import accuracy_score\n",
    "y_pred = rf.predict(X_test)\n",
    "print(accuracy_score(y_test,y_pred))\n",
    "print(accuracy_score(y_test,y_pred,normalize = False))"
   ]
  },
  {
   "cell_type": "code",
   "execution_count": 22,
   "id": "ebf11204",
   "metadata": {},
   "outputs": [
    {
     "data": {
      "text/plain": [
       "0.034308779011099896"
      ]
     },
     "execution_count": 22,
     "metadata": {},
     "output_type": "execute_result"
    }
   ],
   "source": [
    "#Score\n",
    "rf.score(X_test,y_test)"
   ]
  },
  {
   "cell_type": "code",
   "execution_count": 23,
   "id": "4a32432b",
   "metadata": {},
   "outputs": [
    {
     "name": "stdout",
     "output_type": "stream",
     "text": [
      "[\"Adglim 2mg Tablet 10'SAdglim 1mg Tablet 10'S\" \"Alergo 120mg Tablet 10'S\"\n",
      " \"Axovir 800mg Tablet 10'SAxovir 400mg Tablet 10'SAxovir 250mg Injection 1'SAxovir 500mg Injection 1'SAxovir 200mg Tablet 10'S\"\n",
      " \"BILANIX Tablet 10's\" \"Adglim 2mg Tablet 10'SAdglim 1mg Tablet 10'S\"\n",
      " 'Jucan 150mg Tablet'\n",
      " \"Axovir 800mg Tablet 10'SAxovir 400mg Tablet 10'SAxovir 250mg Injection 1'SAxovir 500mg Injection 1'SAxovir 200mg Tablet 10'S\"\n",
      " \"PAXOQUIN Tablet 10's\" \"PAXOQUIN Tablet 10's\"\n",
      " \"Axovir 800mg Tablet 10'SAxovir 400mg Tablet 10'SAxovir 250mg Injection 1'SAxovir 500mg Injection 1'SAxovir 200mg Tablet 10'S\"]\n"
     ]
    }
   ],
   "source": [
    "prediction = rf.predict(X_test)\n",
    "print(prediction[0:10])"
   ]
  },
  {
   "cell_type": "code",
   "execution_count": 24,
   "id": "65963508",
   "metadata": {},
   "outputs": [
    {
     "name": "stdout",
     "output_type": "stream",
     "text": [
      "(3,)\n",
      "(1, 3)\n"
     ]
    }
   ],
   "source": [
    "#Making the prediction of a patient with disease Malaria, age 24,Gender Male\n",
    "test = [5,1,24]\n",
    "test = np.array(test)#List to numpy array\n",
    "print(test.shape)#Shape of the array in 1D\n",
    "test = np.array(test).reshape(1,-1)#Convert 1D to 2D array\n",
    "print(test.shape)"
   ]
  },
  {
   "cell_type": "code",
   "execution_count": 25,
   "id": "e0577d3e",
   "metadata": {},
   "outputs": [
    {
     "name": "stdout",
     "output_type": "stream",
     "text": [
      "Combither Forte 80/480mg Tablet 6'S\n"
     ]
    },
    {
     "name": "stderr",
     "output_type": "stream",
     "text": [
      "C:\\ProgramData\\Anaconda3\\lib\\site-packages\\sklearn\\base.py:450: UserWarning: X does not have valid feature names, but RandomForestClassifier was fitted with feature names\n",
      "  warnings.warn(\n"
     ]
    }
   ],
   "source": [
    "#Recommend Drug Name based on Disease , Gender and Age\n",
    "prediction = rf.predict(test)\n",
    "print(prediction[0])"
   ]
  },
  {
   "cell_type": "code",
   "execution_count": 53,
   "id": "a18348ee",
   "metadata": {},
   "outputs": [],
   "source": [
    "#Dumping the model in the disk\n",
    "import pickle\n",
    "with open('medical_rf.pickle','wb') as f:\n",
    "    pickle.dump(rf,f)"
   ]
  },
  {
   "cell_type": "code",
   "execution_count": 54,
   "id": "1b198893",
   "metadata": {},
   "outputs": [],
   "source": [
    "#Loading the model\n",
    "rfc = joblib.load('medical_rf.pickle')"
   ]
  },
  {
   "cell_type": "code",
   "execution_count": 26,
   "id": "6f32c2c8",
   "metadata": {},
   "outputs": [],
   "source": [
    "# Fitting the model by Naive Bayes\n",
    "\n",
    "from sklearn.naive_bayes import GaussianNB"
   ]
  },
  {
   "cell_type": "code",
   "execution_count": 27,
   "id": "ca0b479c",
   "metadata": {},
   "outputs": [
    {
     "data": {
      "text/plain": [
       "GaussianNB()"
      ]
     },
     "execution_count": 27,
     "metadata": {},
     "output_type": "execute_result"
    }
   ],
   "source": [
    "gnb = GaussianNB()\n",
    "gnb.fit(df_x,np.ravel(df_y))"
   ]
  },
  {
   "cell_type": "code",
   "execution_count": 29,
   "id": "0d183e2a",
   "metadata": {},
   "outputs": [
    {
     "name": "stdout",
     "output_type": "stream",
     "text": [
      "0.039354187689202826\n",
      "39\n"
     ]
    }
   ],
   "source": [
    "y_pred = gnb.predict(X_test)\n",
    "print(accuracy_score(y_test,y_pred))\n",
    "print(accuracy_score(y_test,y_pred,normalize = False))"
   ]
  },
  {
   "cell_type": "code",
   "execution_count": 32,
   "id": "9da72ef4",
   "metadata": {},
   "outputs": [
    {
     "data": {
      "text/plain": [
       "0.039354187689202826"
      ]
     },
     "execution_count": 32,
     "metadata": {},
     "output_type": "execute_result"
    }
   ],
   "source": [
    "gnb.score(X_test,y_test)"
   ]
  },
  {
   "cell_type": "code",
   "execution_count": 34,
   "id": "81fd1c74",
   "metadata": {},
   "outputs": [
    {
     "name": "stdout",
     "output_type": "stream",
     "text": [
      "Combither Forte 80/480mg Tablet 6'S\n"
     ]
    },
    {
     "name": "stderr",
     "output_type": "stream",
     "text": [
      "C:\\ProgramData\\Anaconda3\\lib\\site-packages\\sklearn\\base.py:450: UserWarning: X does not have valid feature names, but GaussianNB was fitted with feature names\n",
      "  warnings.warn(\n"
     ]
    }
   ],
   "source": [
    "# Recommedation of Drug\n",
    "result = gnb.predict(test)\n",
    "print(result[0])"
   ]
  },
  {
   "cell_type": "code",
   "execution_count": 35,
   "id": "94629943",
   "metadata": {},
   "outputs": [],
   "source": [
    "#Dumping the model in the disk\n",
    "import pickle\n",
    "with open('medical_nb.pickle','wb') as f:\n",
    "    pickle.dump(gnb,f)"
   ]
  },
  {
   "cell_type": "code",
   "execution_count": 36,
   "id": "9a03c97e",
   "metadata": {},
   "outputs": [],
   "source": [
    "#Loading the model\n",
    "nb = joblib.load('medical_nb.pickle')"
   ]
  },
  {
   "cell_type": "code",
   "execution_count": null,
   "id": "167cfbba",
   "metadata": {},
   "outputs": [],
   "source": []
  }
 ],
 "metadata": {
  "kernelspec": {
   "display_name": "Python 3 (ipykernel)",
   "language": "python",
   "name": "python3"
  },
  "language_info": {
   "codemirror_mode": {
    "name": "ipython",
    "version": 3
   },
   "file_extension": ".py",
   "mimetype": "text/x-python",
   "name": "python",
   "nbconvert_exporter": "python",
   "pygments_lexer": "ipython3",
   "version": "3.9.13"
  }
 },
 "nbformat": 4,
 "nbformat_minor": 5
}
